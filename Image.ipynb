{
  "nbformat": 4,
  "nbformat_minor": 0,
  "metadata": {
    "colab": {
      "provenance": []
    },
    "kernelspec": {
      "name": "python3",
      "display_name": "Python 3"
    },
    "language_info": {
      "name": "python"
    }
  },
  "cells": [
    {
      "cell_type": "code",
      "execution_count": 1,
      "metadata": {
        "colab": {
          "base_uri": "https://localhost:8080/"
        },
        "id": "-E9qbxECABPn",
        "outputId": "9c34211a-723e-486d-e216-0f2c20cd73bc"
      },
      "outputs": [
        {
          "output_type": "stream",
          "name": "stdout",
          "text": [
            "Extraction complete. Files extracted to: /mnt/data/image_dataset\n"
          ]
        }
      ],
      "source": [
        "import zipfile\n",
        "import os\n",
        "\n",
        "zip_path = '/content/Image Dataset.zip'\n",
        "extract_path = '/mnt/data/image_dataset'\n",
        "\n",
        "with zipfile.ZipFile(zip_path, 'r') as zip_ref:\n",
        "    zip_ref.extractall(extract_path)\n",
        "\n",
        "print(\"Extraction complete. Files extracted to:\", extract_path)\n"
      ]
    },
    {
      "cell_type": "code",
      "source": [
        "for root, dirs, files in os.walk(extract_path):\n",
        "    print(f\"Directory: {root}, Subdirs: {dirs}, Files: {len(files)}\")\n",
        "    break  # just show the top level\n"
      ],
      "metadata": {
        "colab": {
          "base_uri": "https://localhost:8080/"
        },
        "id": "0go5EFBBAclU",
        "outputId": "057535cb-5fc5-4743-c78e-78168296ea37"
      },
      "execution_count": 2,
      "outputs": [
        {
          "output_type": "stream",
          "name": "stdout",
          "text": [
            "Directory: /mnt/data/image_dataset, Subdirs: ['test_crop_image', 'some_more_images', 'kag2', 'crop_images'], Files: 1\n"
          ]
        }
      ]
    },
    {
      "cell_type": "code",
      "source": [
        "from tensorflow.keras.preprocessing.image import load_img, img_to_array\n",
        "import numpy as np\n",
        "import os\n",
        "\n",
        "# Parameters\n",
        "target_size = (128, 128)\n",
        "image_data = []\n",
        "labels = []\n",
        "\n",
        "# Walk through all subfolders and load only image files\n",
        "for root, dirs, files in os.walk(extract_path):\n",
        "    for file in files:\n",
        "        file_path = os.path.join(root, file)\n",
        "        try:\n",
        "            img = load_img(file_path, target_size=target_size)\n",
        "            img_array = img_to_array(img) / 255.0  # Normalize\n",
        "            image_data.append(img_array)\n",
        "            label = os.path.basename(os.path.dirname(file_path))\n",
        "            labels.append(label)\n",
        "        except:\n",
        "            # Ignore non-image files silently\n",
        "            continue\n",
        "\n",
        "print(f\"\\n✅ Total images loaded: {len(image_data)}\")\n"
      ],
      "metadata": {
        "colab": {
          "base_uri": "https://localhost:8080/"
        },
        "id": "lV6Yb2BxAgHf",
        "outputId": "4a199b3e-16e8-4cf2-daaa-35b9af2a46b1"
      },
      "execution_count": 8,
      "outputs": [
        {
          "output_type": "stream",
          "name": "stdout",
          "text": [
            "\n",
            "✅ Total images loaded: 1106\n"
          ]
        }
      ]
    },
    {
      "cell_type": "code",
      "source": [
        "image_data = np.array(image_data)\n",
        "labels = np.array(labels)\n",
        "\n",
        "print(\"Image data shape:\", image_data.shape)\n",
        "print(\"Labels shape:\", labels.shape)\n"
      ],
      "metadata": {
        "colab": {
          "base_uri": "https://localhost:8080/"
        },
        "id": "pNYo__ROAizq",
        "outputId": "d33e38a3-5a6f-4973-f5bc-ef6f305cd7d4"
      },
      "execution_count": 7,
      "outputs": [
        {
          "output_type": "stream",
          "name": "stdout",
          "text": [
            "Image data shape: (1106, 128, 128, 3)\n",
            "Labels shape: (1106,)\n"
          ]
        }
      ]
    },
    {
      "cell_type": "code",
      "source": [
        "from sklearn.preprocessing import LabelEncoder\n",
        "\n",
        "le = LabelEncoder()\n",
        "labels_encoded = le.fit_transform(labels)\n",
        "\n",
        "print(\"Classes found:\", le.classes_)\n"
      ],
      "metadata": {
        "colab": {
          "base_uri": "https://localhost:8080/"
        },
        "id": "FzQJcqk0BXAp",
        "outputId": "5e5e4606-6de4-4a12-b2a2-a282c2dc351e"
      },
      "execution_count": 9,
      "outputs": [
        {
          "output_type": "stream",
          "name": "stdout",
          "text": [
            "Classes found: ['Wheat' 'jute' 'maize' 'rice' 'sugarcane' 'test_crop_image' 'wheat']\n"
          ]
        }
      ]
    },
    {
      "cell_type": "code",
      "source": [],
      "metadata": {
        "id": "oHxsxQ9MBkuY"
      },
      "execution_count": null,
      "outputs": []
    }
  ]
}